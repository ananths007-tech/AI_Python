{
 "cells": [
  {
   "cell_type": "code",
   "execution_count": 1,
   "id": "f6bb102f-3abf-4d60-8296-efbea559b10c",
   "metadata": {},
   "outputs": [],
   "source": [
    "import pickle"
   ]
  },
  {
   "cell_type": "code",
   "execution_count": 2,
   "id": "70b07db6-f8dc-4ad3-bfe9-9dc855607a60",
   "metadata": {},
   "outputs": [],
   "source": [
    "mul_loaded_model = pickle.load(open(\"mulline_final.sav\",\"rb\"))"
   ]
  },
  {
   "cell_type": "code",
   "execution_count": 3,
   "id": "0ae70055-a39f-4be8-a2b5-6d189cc4825d",
   "metadata": {},
   "outputs": [
    {
     "name": "stdin",
     "output_type": "stream",
     "text": [
      "R&D: 80000.50\n",
      "Admin 80000.50\n",
      "Marketing  80000.50\n",
      "State_flo 0 or 1: 0\n",
      "State_new 0 or 1: 0\n"
     ]
    }
   ],
   "source": [
    "rd_input=float(input(\"R&D:\"))\n",
    "admin_input=float(input(\"Admin\"))\n",
    "mark_input=float(input(\"Marketing \"))\n",
    "fol_input=int(input(\"State_flo 0 or 1:\"))\n",
    "new_input=int(input(\"State_new 0 or 1:\"))"
   ]
  },
  {
   "cell_type": "code",
   "execution_count": 6,
   "id": "59764d6b-964a-48a1-ac9e-5d51c6dec7a1",
   "metadata": {},
   "outputs": [
    {
     "name": "stderr",
     "output_type": "stream",
     "text": [
      "C:\\Users\\anant\\anaconda3\\Lib\\site-packages\\sklearn\\utils\\validation.py:2739: UserWarning: X does not have valid feature names, but LinearRegression was fitted with feature names\n",
      "  warnings.warn(\n"
     ]
    }
   ],
   "source": [
    "result=mul_loaded_model.predict([[rd_input,admin_input,mark_input,fol_input,new_input]])"
   ]
  },
  {
   "cell_type": "code",
   "execution_count": 7,
   "id": "9adbaad0-03bb-466c-be4a-3d967021cae2",
   "metadata": {},
   "outputs": [
    {
     "data": {
      "text/plain": [
       "array([[111225.57298658]])"
      ]
     },
     "execution_count": 7,
     "metadata": {},
     "output_type": "execute_result"
    }
   ],
   "source": [
    "result"
   ]
  },
  {
   "cell_type": "code",
   "execution_count": null,
   "id": "ec2bf7cf-b444-4536-a6fe-7bfd4e7a1a1c",
   "metadata": {},
   "outputs": [],
   "source": []
  }
 ],
 "metadata": {
  "kernelspec": {
   "display_name": "Python [conda env:base] *",
   "language": "python",
   "name": "conda-base-py"
  },
  "language_info": {
   "codemirror_mode": {
    "name": "ipython",
    "version": 3
   },
   "file_extension": ".py",
   "mimetype": "text/x-python",
   "name": "python",
   "nbconvert_exporter": "python",
   "pygments_lexer": "ipython3",
   "version": "3.13.5"
  }
 },
 "nbformat": 4,
 "nbformat_minor": 5
}
