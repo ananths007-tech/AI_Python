{
 "cells": [
  {
   "cell_type": "code",
   "execution_count": 1,
   "id": "3aceb6d4-3d8a-49ae-906e-f1930a891400",
   "metadata": {},
   "outputs": [
    {
     "name": "stdout",
     "output_type": "stream",
     "text": [
      "Sub-fields in AI are:\n",
      "Machine Learning\n",
      "Neural Networks\n",
      "Vision\n",
      "Robotics\n",
      "Speech Processing\n",
      "Natural Language Processing\n",
      "['Machine Learning', 'Neural Networks', 'Vision', 'Robotics', 'Speech Processing', 'Natural Language Processing']\n"
     ]
    }
   ],
   "source": [
    "from multipleFunctions import mulFunctions\n",
    "mf = mulFunctions()\n",
    "result = mf.list_AI()\n",
    "print(result)"
   ]
  },
  {
   "cell_type": "code",
   "execution_count": 2,
   "id": "a14daa72-4fc3-4be9-bfbe-5f8c6837af61",
   "metadata": {},
   "outputs": [],
   "source": [
    "mf = mulFunctions()"
   ]
  },
  {
   "cell_type": "code",
   "execution_count": 3,
   "id": "42e68140-a7a2-41c4-a230-5a1b64915667",
   "metadata": {},
   "outputs": [
    {
     "name": "stdin",
     "output_type": "stream",
     "text": [
      "Enter the number : 12\n"
     ]
    },
    {
     "name": "stdout",
     "output_type": "stream",
     "text": [
      "Its an even number\n",
      "Even number\n"
     ]
    }
   ],
   "source": [
    "result = mf.Odd_Even()\n",
    "print(result)"
   ]
  },
  {
   "cell_type": "code",
   "execution_count": 4,
   "id": "c6b23d8b-5a68-4892-89a7-2b9f1133db3a",
   "metadata": {},
   "outputs": [
    {
     "name": "stdin",
     "output_type": "stream",
     "text": [
      "Enter your Age:  18\n",
      "Enter your Gender:  Female\n"
     ]
    },
    {
     "name": "stdout",
     "output_type": "stream",
     "text": [
      "ELIGIBLE\n"
     ]
    }
   ],
   "source": [
    "result = mf.eligibility_marriage()"
   ]
  },
  {
   "cell_type": "code",
   "execution_count": 5,
   "id": "5f7143ea-7dec-4734-9dee-90f21ddcc0e2",
   "metadata": {},
   "outputs": [
    {
     "name": "stdin",
     "output_type": "stream",
     "text": [
      "Enter the BMI index: 34\n"
     ]
    },
    {
     "name": "stdout",
     "output_type": "stream",
     "text": [
      "Very over weight\n"
     ]
    }
   ],
   "source": [
    "result = mf.BMI()"
   ]
  },
  {
   "cell_type": "code",
   "execution_count": null,
   "id": "a4cc2074-cf9e-430f-9f91-1d757239ad1c",
   "metadata": {},
   "outputs": [],
   "source": []
  },
  {
   "cell_type": "code",
   "execution_count": null,
   "id": "b99a46af-67c5-42d2-9fdf-9abb12eb93cd",
   "metadata": {},
   "outputs": [],
   "source": []
  },
  {
   "cell_type": "code",
   "execution_count": null,
   "id": "4d6ca608-a591-44ea-8f4f-6d53a60b13ca",
   "metadata": {},
   "outputs": [],
   "source": []
  },
  {
   "cell_type": "code",
   "execution_count": null,
   "id": "98ed8a23-bdf4-4851-acaf-115b8b2a0478",
   "metadata": {},
   "outputs": [],
   "source": []
  }
 ],
 "metadata": {
  "kernelspec": {
   "display_name": "Python [conda env:base] *",
   "language": "python",
   "name": "conda-base-py"
  },
  "language_info": {
   "codemirror_mode": {
    "name": "ipython",
    "version": 3
   },
   "file_extension": ".py",
   "mimetype": "text/x-python",
   "name": "python",
   "nbconvert_exporter": "python",
   "pygments_lexer": "ipython3",
   "version": "3.13.5"
  }
 },
 "nbformat": 4,
 "nbformat_minor": 5
}
