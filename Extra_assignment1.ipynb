{
 "cells": [
  {
   "cell_type": "code",
   "execution_count": null,
   "id": "42ea5336",
   "metadata": {},
   "outputs": [],
   "source": []
  },
  {
   "cell_type": "code",
   "execution_count": null,
   "id": "0a73aedb",
   "metadata": {
    "lines_to_next_cell": 2
   },
   "outputs": [],
   "source": [
    "\n",
    "\n",
    "print('HOPE AI')"
   ]
  },
  {
   "cell_type": "code",
   "execution_count": null,
   "id": "a0f5c75a",
   "metadata": {
    "lines_to_next_cell": 2
   },
   "outputs": [],
   "source": [
    "\n",
    "\n",
    "name = input('Enter your insititute name? :')"
   ]
  },
  {
   "cell_type": "code",
   "execution_count": null,
   "id": "8d98d121",
   "metadata": {
    "lines_to_next_cell": 2
   },
   "outputs": [],
   "source": [
    "\n",
    "\n",
    "name = input('Enter your name :')\n",
    "age = input('Enter your age :')\n",
    "school = input('Enter your school name :')\n",
    "degree = input('Enter your degree name:')"
   ]
  },
  {
   "cell_type": "code",
   "execution_count": null,
   "id": "39621d07",
   "metadata": {
    "lines_to_next_cell": 2
   },
   "outputs": [],
   "source": [
    "\n",
    "\n",
    "a = 43\n",
    "b = 34\n",
    "add = a + b\n",
    "print(\"a = \",a)\n",
    "print(\"b = \",b)\n",
    "print(\"add = \",add)"
   ]
  },
  {
   "cell_type": "code",
   "execution_count": null,
   "id": "6e1a85c8",
   "metadata": {
    "lines_to_next_cell": 2
   },
   "outputs": [],
   "source": [
    "\n",
    "\n",
    "a = 43\n",
    "b = 34\n",
    "sub = a - b\n",
    "print(\"a = \",a)\n",
    "print(\"b = \",b)\n",
    "print(\"sub = \",sub)"
   ]
  },
  {
   "cell_type": "code",
   "execution_count": null,
   "id": "cfaa0fcc",
   "metadata": {
    "lines_to_next_cell": 2
   },
   "outputs": [],
   "source": [
    "\n",
    "\n",
    "a = 43\n",
    "b = 34\n",
    "mul = a * b\n",
    "print(\"a = \",a)\n",
    "print(\"b = \",b)\n",
    "print(\"mul = \",mul)"
   ]
  },
  {
   "cell_type": "code",
   "execution_count": null,
   "id": "5a43ca19",
   "metadata": {
    "lines_to_next_cell": 2
   },
   "outputs": [],
   "source": [
    "\n",
    "\n",
    "a = 75\n",
    "b = 31\n",
    "flt = a / b\n",
    "print(\"a = \",a)\n",
    "print(\"b = \",b)\n",
    "print(\"float div = \",flt)"
   ]
  },
  {
   "cell_type": "code",
   "execution_count": null,
   "id": "d15b134c",
   "metadata": {
    "lines_to_next_cell": 2
   },
   "outputs": [],
   "source": [
    "\n",
    "\n",
    "a = 75\n",
    "b = 31\n",
    "flt = a % b\n",
    "print(\"a = \",a)\n",
    "print(\"b = \",b)\n",
    "print(\"modulo = \",flt)"
   ]
  },
  {
   "cell_type": "code",
   "execution_count": null,
   "id": "516103f2",
   "metadata": {
    "lines_to_next_cell": 2
   },
   "outputs": [],
   "source": [
    "\n",
    "\n",
    "a= 4\n",
    "b=4\n",
    "x= pow(a,b)\n",
    "print(\"a = \",a)\n",
    "print(\"b = \",b)\n",
    "print(\"power = \",x)"
   ]
  },
  {
   "cell_type": "code",
   "execution_count": null,
   "id": "2fcedb7a",
   "metadata": {
    "lines_to_next_cell": 2
   },
   "outputs": [],
   "source": [
    "\n",
    "\n"
   ]
  }
 ],
 "metadata": {
  "jupytext": {
   "cell_metadata_filter": "-all",
   "encoding": "# coding: utf-8",
   "executable": "/usr/bin/env python",
   "main_language": "python",
   "notebook_metadata_filter": "-all"
  },
  "kernelspec": {
   "display_name": "Python [conda env:base] *",
   "language": "python",
   "name": "conda-base-py"
  },
  "language_info": {
   "codemirror_mode": {
    "name": "ipython",
    "version": 3
   },
   "file_extension": ".py",
   "mimetype": "text/x-python",
   "name": "python",
   "nbconvert_exporter": "python",
   "pygments_lexer": "ipython3",
   "version": "3.13.5"
  }
 },
 "nbformat": 4,
 "nbformat_minor": 5
}
