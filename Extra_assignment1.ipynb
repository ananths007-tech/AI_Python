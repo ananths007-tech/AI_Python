{
 "cells": [
  {
   "cell_type": "code",
   "execution_count": null,
   "id": "42ea5336",
   "metadata": {},
   "outputs": [],
   "source": []
  },
  {
   "cell_type": "code",
   "execution_count": 1,
   "id": "0a73aedb",
   "metadata": {
    "lines_to_next_cell": 2
   },
   "outputs": [
    {
     "name": "stdout",
     "output_type": "stream",
     "text": [
      "HOPE AI\n"
     ]
    }
   ],
   "source": [
    "\n",
    "\n",
    "print('HOPE AI')"
   ]
  },
  {
   "cell_type": "code",
   "execution_count": 2,
   "id": "a0f5c75a",
   "metadata": {
    "lines_to_next_cell": 2
   },
   "outputs": [
    {
     "name": "stdin",
     "output_type": "stream",
     "text": [
      "Enter your insititute name? : HOPE AI\n"
     ]
    }
   ],
   "source": [
    "\n",
    "\n",
    "name = input('Enter your insititute name? :')"
   ]
  },
  {
   "cell_type": "code",
   "execution_count": 3,
   "id": "8d98d121",
   "metadata": {
    "lines_to_next_cell": 2
   },
   "outputs": [
    {
     "name": "stdin",
     "output_type": "stream",
     "text": [
      "Enter your name : Ananth\n",
      "Enter your age : 42\n",
      "Enter your school name : A.V.Rm.V\n",
      "Enter your degree name: B.E(IT)\n"
     ]
    }
   ],
   "source": [
    "\n",
    "\n",
    "name = input('Enter your name :')\n",
    "age = input('Enter your age :')\n",
    "school = input('Enter your school name :')\n",
    "degree = input('Enter your degree name:')"
   ]
  },
  {
   "cell_type": "code",
   "execution_count": 4,
   "id": "39621d07",
   "metadata": {
    "lines_to_next_cell": 2
   },
   "outputs": [
    {
     "name": "stdout",
     "output_type": "stream",
     "text": [
      "a =  43\n",
      "b =  34\n",
      "add =  77\n"
     ]
    }
   ],
   "source": [
    "\n",
    "\n",
    "a = 43\n",
    "b = 34\n",
    "add = a + b\n",
    "print(\"a = \",a)\n",
    "print(\"b = \",b)\n",
    "print(\"add = \",add)"
   ]
  },
  {
   "cell_type": "code",
   "execution_count": 5,
   "id": "6e1a85c8",
   "metadata": {
    "lines_to_next_cell": 2
   },
   "outputs": [
    {
     "name": "stdout",
     "output_type": "stream",
     "text": [
      "a =  43\n",
      "b =  34\n",
      "sub =  9\n"
     ]
    }
   ],
   "source": [
    "\n",
    "\n",
    "a = 43\n",
    "b = 34\n",
    "sub = a - b\n",
    "print(\"a = \",a)\n",
    "print(\"b = \",b)\n",
    "print(\"sub = \",sub)"
   ]
  },
  {
   "cell_type": "code",
   "execution_count": 6,
   "id": "cfaa0fcc",
   "metadata": {
    "lines_to_next_cell": 2
   },
   "outputs": [
    {
     "name": "stdout",
     "output_type": "stream",
     "text": [
      "a =  43\n",
      "b =  34\n",
      "mul =  1462\n"
     ]
    }
   ],
   "source": [
    "\n",
    "\n",
    "a = 43\n",
    "b = 34\n",
    "mul = a * b\n",
    "print(\"a = \",a)\n",
    "print(\"b = \",b)\n",
    "print(\"mul = \",mul)"
   ]
  },
  {
   "cell_type": "code",
   "execution_count": 7,
   "id": "5a43ca19",
   "metadata": {
    "lines_to_next_cell": 2
   },
   "outputs": [
    {
     "name": "stdout",
     "output_type": "stream",
     "text": [
      "a =  75\n",
      "b =  31\n",
      "float div =  2.4193548387096775\n"
     ]
    }
   ],
   "source": [
    "\n",
    "\n",
    "a = 75\n",
    "b = 31\n",
    "flt = a / b\n",
    "print(\"a = \",a)\n",
    "print(\"b = \",b)\n",
    "print(\"float div = \",flt)"
   ]
  },
  {
   "cell_type": "code",
   "execution_count": 8,
   "id": "d15b134c",
   "metadata": {
    "lines_to_next_cell": 2
   },
   "outputs": [
    {
     "name": "stdout",
     "output_type": "stream",
     "text": [
      "a =  75\n",
      "b =  31\n",
      "modulo =  13\n"
     ]
    }
   ],
   "source": [
    "\n",
    "\n",
    "a = 75\n",
    "b = 31\n",
    "flt = a % b\n",
    "print(\"a = \",a)\n",
    "print(\"b = \",b)\n",
    "print(\"modulo = \",flt)"
   ]
  },
  {
   "cell_type": "code",
   "execution_count": 9,
   "id": "516103f2",
   "metadata": {
    "lines_to_next_cell": 2
   },
   "outputs": [
    {
     "name": "stdout",
     "output_type": "stream",
     "text": [
      "a =  4\n",
      "b =  4\n",
      "power =  256\n"
     ]
    }
   ],
   "source": [
    "\n",
    "\n",
    "a= 4\n",
    "b=4\n",
    "x= pow(a,b)\n",
    "print(\"a = \",a)\n",
    "print(\"b = \",b)\n",
    "print(\"power = \",x)"
   ]
  },
  {
   "cell_type": "code",
   "execution_count": null,
   "id": "2fcedb7a",
   "metadata": {
    "lines_to_next_cell": 2
   },
   "outputs": [],
   "source": [
    "\n",
    "\n"
   ]
  },
  {
   "cell_type": "code",
   "execution_count": null,
   "id": "67df916e-19c5-48a6-b323-bd7532497445",
   "metadata": {},
   "outputs": [],
   "source": []
  }
 ],
 "metadata": {
  "jupytext": {
   "cell_metadata_filter": "-all",
   "encoding": "# coding: utf-8",
   "executable": "/usr/bin/env python",
   "main_language": "python",
   "notebook_metadata_filter": "-all"
  },
  "kernelspec": {
   "display_name": "Python [conda env:base] *",
   "language": "python",
   "name": "conda-base-py"
  },
  "language_info": {
   "codemirror_mode": {
    "name": "ipython",
    "version": 3
   },
   "file_extension": ".py",
   "mimetype": "text/x-python",
   "name": "python",
   "nbconvert_exporter": "python",
   "pygments_lexer": "ipython3",
   "version": "3.13.5"
  }
 },
 "nbformat": 4,
 "nbformat_minor": 5
}
