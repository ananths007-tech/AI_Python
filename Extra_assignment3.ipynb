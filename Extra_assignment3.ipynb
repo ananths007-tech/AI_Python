{
 "cells": [
  {
   "cell_type": "code",
   "execution_count": null,
   "id": "ed13fc0e",
   "metadata": {},
   "outputs": [],
   "source": []
  },
  {
   "cell_type": "code",
   "execution_count": null,
   "id": "385e2df6",
   "metadata": {
    "lines_to_next_cell": 2
   },
   "outputs": [],
   "source": [
    "\n",
    "\n",
    "v_inp = int(input(\"Enter a number:\"))\n",
    "if (v_inp == 10):\n",
    "    print(\"Correct\")\n",
    "else:\n",
    "    print(\"Wrong value\")        "
   ]
  },
  {
   "cell_type": "code",
   "execution_count": null,
   "id": "8bda4c8c",
   "metadata": {
    "lines_to_next_cell": 2
   },
   "outputs": [],
   "source": [
    "\n",
    "\n",
    "v_pwd = input('Enter the password:')\n",
    "if (v_pwd != 'HOPE@123'):\n",
    "    print('Please try again')\n",
    "else:\n",
    "    print('Your password is correct')"
   ]
  },
  {
   "cell_type": "code",
   "execution_count": null,
   "id": "e0c754cf",
   "metadata": {},
   "outputs": [],
   "source": [
    "\n",
    "\n",
    "v_age = int(input('Enter the age'))\n",
    "if (v_age < 18):\n",
    "    print('Minor')\n",
    "elif(v_age <= 59):\n",
    "    print('Adult')\n",
    "else:\n",
    "    print('Senior Citizen')\n",
    "\n",
    "                  \n"
   ]
  },
  {
   "cell_type": "code",
   "execution_count": null,
   "id": "be71a5d2",
   "metadata": {
    "lines_to_next_cell": 2
   },
   "outputs": [],
   "source": [
    "\n",
    "\n",
    "v_num = int(input('Enter the value for number:'))\n",
    "if (v_num < 0):\n",
    "    print(' Its a negative number')\n",
    "else:\n",
    "    print('Number is positive')"
   ]
  },
  {
   "cell_type": "code",
   "execution_count": null,
   "id": "23fcb76d",
   "metadata": {
    "lines_to_next_cell": 2
   },
   "outputs": [],
   "source": [
    "\n",
    "\n",
    "v_mod = int(input('Enter the number to check'))\n",
    "if((v_mod%5) == 0):\n",
    "    print('Number is divisible by 5')\n",
    "else:\n",
    "    print('Number is not divisible by 5')"
   ]
  },
  {
   "cell_type": "code",
   "execution_count": null,
   "id": "dfe093a8",
   "metadata": {
    "lines_to_next_cell": 2
   },
   "outputs": [],
   "source": [
    "\n",
    "\n"
   ]
  }
 ],
 "metadata": {
  "jupytext": {
   "cell_metadata_filter": "-all",
   "encoding": "# coding: utf-8",
   "executable": "/usr/bin/env python",
   "main_language": "python",
   "notebook_metadata_filter": "-all"
  }
 },
 "nbformat": 4,
 "nbformat_minor": 5
}
