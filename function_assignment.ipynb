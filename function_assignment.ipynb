{
 "cells": [
  {
   "cell_type": "code",
   "execution_count": 1,
   "id": "c0a6d34b-3883-481d-bd6c-21e0db74aa41",
   "metadata": {},
   "outputs": [],
   "source": [
    "lst_AI=[\"Machine Learning\",\"Neural Networks\",\"Vision\",\"Robotics\",\"Speech Processing\",\"Natural Language Processing\"]"
   ]
  },
  {
   "cell_type": "code",
   "execution_count": 2,
   "id": "adaae755-208d-445f-adad-e1df47a32cd0",
   "metadata": {},
   "outputs": [],
   "source": [
    "def list_AI():\n",
    "    print(\"Sub-fields in AI are:\")\n",
    "    for i in lst_AI:\n",
    "        print(i)"
   ]
  },
  {
   "cell_type": "code",
   "execution_count": 3,
   "id": "53b1db09-1142-412c-8143-1fa3030d5c5c",
   "metadata": {},
   "outputs": [
    {
     "name": "stdout",
     "output_type": "stream",
     "text": [
      "Sub-fields in AI are:\n",
      "Machine Learning\n",
      "Neural Networks\n",
      "Vision\n",
      "Robotics\n",
      "Speech Processing\n",
      "Natural Language Processing\n"
     ]
    }
   ],
   "source": [
    "list_AI()"
   ]
  },
  {
   "cell_type": "code",
   "execution_count": 4,
   "id": "ff5ad8d9-de67-4010-9d64-7a50ea2d8373",
   "metadata": {},
   "outputs": [],
   "source": [
    "def Odd_Even():\n",
    "    v_num= int(input(\"Enter the number :\"))\n",
    "    if((v_num%2)==1):\n",
    "        print(\"Its a Odd number\")\n",
    "        message = 'Odd Number'\n",
    "    else:\n",
    "        print(\"Its an even number\")\n",
    "        message = 'Even number'\n",
    "    return message"
   ]
  },
  {
   "cell_type": "code",
   "execution_count": 5,
   "id": "b4734542-ece9-4420-ad2f-eed3743b8d45",
   "metadata": {},
   "outputs": [
    {
     "name": "stdin",
     "output_type": "stream",
     "text": [
      "Enter the number : 32\n"
     ]
    },
    {
     "name": "stdout",
     "output_type": "stream",
     "text": [
      "Its an even number\n"
     ]
    },
    {
     "data": {
      "text/plain": [
       "'Even number'"
      ]
     },
     "execution_count": 5,
     "metadata": {},
     "output_type": "execute_result"
    }
   ],
   "source": [
    "Odd_Even()"
   ]
  },
  {
   "cell_type": "code",
   "execution_count": 6,
   "id": "a4c59210-95f4-4e22-9931-3c7387108cbc",
   "metadata": {},
   "outputs": [],
   "source": [
    "def eligibility_marriage():\n",
    "    v_age = int(input(\"Enter your Age\"))\n",
    "    v_gender = input(\"Enter your Gender\")\n",
    "    if((v_gender)=='Male'):\n",
    "        if(v_age<21):\n",
    "            print(\"NOT ELIGIBLE\")\n",
    "        else:\n",
    "            print(\"ELIGIBLE\")\n",
    "    elif((v_gender)=='FEMALE'):\n",
    "        if(v_age<18):\n",
    "            print(\"NOT ELIGIBLE\")\n",
    "        else:\n",
    "            print('ELIGIBLE')\n",
    "            \n"
   ]
  },
  {
   "cell_type": "code",
   "execution_count": 8,
   "id": "48b7981a-de50-4bbc-8fee-ab7096f43478",
   "metadata": {},
   "outputs": [
    {
     "name": "stdin",
     "output_type": "stream",
     "text": [
      "Enter your Age 18\n",
      "Enter your Gender Male\n"
     ]
    },
    {
     "name": "stdout",
     "output_type": "stream",
     "text": [
      "NOT ELIGIBLE\n"
     ]
    }
   ],
   "source": [
    "eligibility_marriage()"
   ]
  },
  {
   "cell_type": "code",
   "execution_count": 9,
   "id": "c76a84f8-94e8-4e38-899a-03ecb89a5f43",
   "metadata": {},
   "outputs": [],
   "source": [
    "Subject1= 98\n",
    "Subject2= 87\n",
    "Subject3= 95\n",
    "Subject4= 95\n",
    "Subject5= 93\n",
    "def percent():\n",
    "    total = Subject1+Subject2+Subject3+Subject4+Subject5\n",
    "    percent = (total/500)*100\n",
    "    print(\"Total is\" ,total)\n",
    "    print(\"Percentile is\" ,percent)"
   ]
  },
  {
   "cell_type": "code",
   "execution_count": 10,
   "id": "7160d2f8-cf54-4e80-9ad5-30892ba72efb",
   "metadata": {},
   "outputs": [
    {
     "name": "stdout",
     "output_type": "stream",
     "text": [
      "Total is 468\n",
      "Percentile is 93.60000000000001\n"
     ]
    }
   ],
   "source": [
    "percent()"
   ]
  },
  {
   "cell_type": "code",
   "execution_count": 11,
   "id": "f008f928-b854-4045-a195-cba525e67365",
   "metadata": {},
   "outputs": [
    {
     "data": {
      "text/plain": [
       "10"
      ]
     },
     "execution_count": 11,
     "metadata": {},
     "output_type": "execute_result"
    }
   ],
   "source": [
    "def area_triangle(height,breadth):\n",
    "    area = (height*breadth)/2\n",
    "    return area\n",
    "area_triangle(32,34)  \n",
    "def perimeter_triangle(height1,height2,breadth):\n",
    "    per_triangle = (height1+height2+breadth)\n",
    "    return per_triangle\n",
    "perimeter_triangle(2,4,4)"
   ]
  },
  {
   "cell_type": "code",
   "execution_count": null,
   "id": "9866f443-388a-47f4-a4d1-c284b689277f",
   "metadata": {},
   "outputs": [],
   "source": []
  }
 ],
 "metadata": {
  "jupytext": {
   "formats": "py:percent,ipynb"
  },
  "kernelspec": {
   "display_name": "Python [conda env:base] *",
   "language": "python",
   "name": "conda-base-py"
  },
  "language_info": {
   "codemirror_mode": {
    "name": "ipython",
    "version": 3
   },
   "file_extension": ".py",
   "mimetype": "text/x-python",
   "name": "python",
   "nbconvert_exporter": "python",
   "pygments_lexer": "ipython3",
   "version": "3.13.5"
  }
 },
 "nbformat": 4,
 "nbformat_minor": 5
}
